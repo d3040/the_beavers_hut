{
 "cells": [
  {
   "cell_type": "markdown",
   "id": "462f41fc-214e-43a1-9c07-2ede3a938222",
   "metadata": {},
   "source": [
    "# Introduction to Data Science in Python"
   ]
  },
  {
   "cell_type": "markdown",
   "id": "decdec6c-9d72-4a57-a411-879fc18079ee",
   "metadata": {},
   "source": [
    "### Essential Python Libraries"
   ]
  },
  {
   "cell_type": "markdown",
   "id": "564a2da1-317b-42e4-a6b5-729d8b8159b0",
   "metadata": {},
   "source": [
    "* NumPy (Numerical Python)\n",
    "* pandas\n",
    "* matplotlib\n",
    "* IPython and Jupyter\n",
    "* SciPy\n",
    "* scikit-learn\n",
    "* statsmodels\n",
    "* Miniconda, a minimal installation of the conda package manager, along with conda-forge, a community-maintained software distribution based on conda."
   ]
  },
  {
   "cell_type": "markdown",
   "id": "0df6c367-ed78-46bc-918f-369cdc349bfb",
   "metadata": {},
   "source": [
    "[Reference for installation](https://wesmckinney.com/book/preliminaries#installation_mac)"
   ]
  },
  {
   "cell_type": "markdown",
   "id": "cbfa7ded-8e13-4377-a426-2a38405c8b7d",
   "metadata": {},
   "source": [
    "### Running the Jupyter Notebook"
   ]
  },
  {
   "cell_type": "markdown",
   "id": "5aeb94ce-c221-411f-b92f-de6216c2bf96",
   "metadata": {},
   "source": [
    "To open the Jupyter Notebook, type *jupyter notebook*."
   ]
  },
  {
   "cell_type": "markdown",
   "id": "b8c5b254-c37e-460b-b948-83158b9cdbd5",
   "metadata": {},
   "source": [
    "### Running the IPython Shell"
   ]
  },
  {
   "cell_type": "markdown",
   "id": "2e5500bb-a323-4bb9-9983-daaf0a322333",
   "metadata": {},
   "source": [
    "To start running the IPython Shell, just type *ipython*."
   ]
  },
  {
   "cell_type": "markdown",
   "id": "e0240cbb-d7cb-4c65-a178-019d291fa2e3",
   "metadata": {
    "jp-MarkdownHeadingCollapsed": true
   },
   "source": [
    "### Activate virtual environment"
   ]
  },
  {
   "cell_type": "markdown",
   "id": "057becd1-1b13-4080-8312-ea1553773020",
   "metadata": {},
   "source": [
    "```\n",
    "conda activate <venv>\n",
    "```"
   ]
  },
  {
   "cell_type": "markdown",
   "id": "d8e1e93b-40f6-42f8-9ee4-53f4db69b9ac",
   "metadata": {},
   "source": [
    "## Fundamentals of Data Manipulation with Python"
   ]
  },
  {
   "cell_type": "markdown",
   "id": "e16a47dd-f549-4c4a-9792-b2b3e8a3fafc",
   "metadata": {},
   "source": [
    "Note that list concatenation by addition is a comparatively expensive operation since a new list must be created and the objects copied over. Using extend to append elements to an existing list, especially if you are building up a large list, is usually preferable. Thus:"
   ]
  },
  {
   "cell_type": "code",
   "execution_count": 2,
   "id": "42b8c089-8abd-4c90-b0dc-be1dd24ce5dc",
   "metadata": {},
   "outputs": [
    {
     "data": {
      "text/plain": [
       "[0, 1, 2, 1, 2, 3, 2, 3, 4, 3, 4, 5, 4, 5, 6]"
      ]
     },
     "execution_count": 2,
     "metadata": {},
     "output_type": "execute_result"
    }
   ],
   "source": [
    "list_of_lists = [[i, i + 1, i + 2] for i in range(5)]\n",
    "everything = []\n",
    "for chunk in list_of_lists:\n",
    "    everything.extend(chunk)\n",
    "\n",
    "everything"
   ]
  },
  {
   "cell_type": "markdown",
   "id": "fae95ebd-d4f0-4210-8f1f-63fd84840746",
   "metadata": {},
   "source": [
    "You can select sections of most sequence types by using slice notation, which in its basic form consists of *start:stop* passed to the indexing operator []. Slices can also be assigned with a sequence:"
   ]
  },
  {
   "cell_type": "code",
   "execution_count": 3,
   "id": "e2700456-fb58-4f1a-9fe3-c24f32ae6fd3",
   "metadata": {},
   "outputs": [
    {
     "data": {
      "text/plain": [
       "[7, 2, 3, 6, 3, 6, 0, 1]"
      ]
     },
     "execution_count": 3,
     "metadata": {},
     "output_type": "execute_result"
    }
   ],
   "source": [
    "seq = [7, 2, 3, 7, 5, 6, 0, 1]\n",
    "seq[3:5] = [6, 3]\n",
    "\n",
    "seq"
   ]
  },
  {
   "cell_type": "markdown",
   "id": "5a4a3849-7f13-47f0-89ab-7b368febd60b",
   "metadata": {},
   "source": [
    "A `step` can also be used after a second colon to, say, take every other element:"
   ]
  },
  {
   "cell_type": "code",
   "execution_count": 4,
   "id": "9149a304-7c65-4018-96aa-175329fda960",
   "metadata": {},
   "outputs": [
    {
     "data": {
      "text/plain": [
       "[7, 3, 3, 0]"
      ]
     },
     "execution_count": 4,
     "metadata": {},
     "output_type": "execute_result"
    }
   ],
   "source": [
    "seq[::2]"
   ]
  },
  {
   "cell_type": "markdown",
   "id": "dac57650-db06-49c7-9616-773ed982db27",
   "metadata": {},
   "source": [
    "A clever use of this is to pass -1, which has the useful effect of reversing a list or tuple:"
   ]
  },
  {
   "cell_type": "code",
   "execution_count": 5,
   "id": "7b64576c-9092-4cba-aeec-5cdd626ad6a1",
   "metadata": {},
   "outputs": [
    {
     "data": {
      "text/plain": [
       "[1, 0, 6, 3, 6, 3, 2, 7]"
      ]
     },
     "execution_count": 5,
     "metadata": {},
     "output_type": "execute_result"
    }
   ],
   "source": [
    "seq[::-1]"
   ]
  },
  {
   "cell_type": "markdown",
   "id": "a2255a5e-f553-495e-ad1d-f379d3eff920",
   "metadata": {},
   "source": [
    "You can merge one dictionary into another using the update method:"
   ]
  },
  {
   "cell_type": "code",
   "execution_count": 6,
   "id": "27d8e7d9-e3bb-4765-abc9-947392d41c5a",
   "metadata": {},
   "outputs": [
    {
     "data": {
      "text/plain": [
       "{'a': 1, 'b': 'foo', 'c': 12}"
      ]
     },
     "execution_count": 6,
     "metadata": {},
     "output_type": "execute_result"
    }
   ],
   "source": [
    "d1 = {\"a\": 1, \"b\": 2}\n",
    "d1.update({\"b\": \"foo\", \"c\": 12})\n",
    "d1"
   ]
  },
  {
   "cell_type": "markdown",
   "id": "97153c23-5b6c-4879-8b56-d49ec379fac2",
   "metadata": {},
   "source": [
    "It’s common to occasionally end up with **two sequences that you want to pair up element-wise in a dictionary**. As a first cut, you might write code like this:"
   ]
  },
  {
   "cell_type": "markdown",
   "id": "122af097-5e4c-44b9-adf8-995240844507",
   "metadata": {},
   "source": [
    "```python\n",
    "mapping = {}\n",
    "for key, value in zip(key_list, value_list):\n",
    "    mapping[key] = value\n",
    "```"
   ]
  },
  {
   "cell_type": "code",
   "execution_count": 7,
   "id": "bfd2bcc6-729b-4a4e-b498-16df0caa2d88",
   "metadata": {},
   "outputs": [
    {
     "data": {
      "text/plain": [
       "<zip at 0x1040eb680>"
      ]
     },
     "execution_count": 7,
     "metadata": {},
     "output_type": "execute_result"
    }
   ],
   "source": [
    "tuples = zip(range(5), reversed(range(5)))\n",
    "tuples"
   ]
  },
  {
   "cell_type": "code",
   "execution_count": 8,
   "id": "cfb6c32c-9494-4abf-a18a-da066776582d",
   "metadata": {},
   "outputs": [
    {
     "data": {
      "text/plain": [
       "{0: 4, 1: 3, 2: 2, 3: 1, 4: 0}"
      ]
     },
     "execution_count": 8,
     "metadata": {},
     "output_type": "execute_result"
    }
   ],
   "source": [
    "mapping = dict(tuples)\n",
    "mapping"
   ]
  },
  {
   "cell_type": "markdown",
   "id": "b17aa2df-5de5-42bf-9677-ef999d543b7f",
   "metadata": {},
   "source": [
    "The `setdefault` dictionary method can be used to simplify stuff:"
   ]
  },
  {
   "cell_type": "code",
   "execution_count": 9,
   "id": "ddeb8e06-8f7a-4cd6-9a29-533f96581b64",
   "metadata": {},
   "outputs": [
    {
     "data": {
      "text/plain": [
       "{'a': ['apple', 'atom'], 'b': ['bat', 'bar', 'book']}"
      ]
     },
     "execution_count": 9,
     "metadata": {},
     "output_type": "execute_result"
    }
   ],
   "source": [
    "words = [\"apple\", \"bat\", \"bar\", \"atom\", \"book\"]\n",
    "by_letter = {}\n",
    "\n",
    "for word in words:\n",
    "    letter = word[0]\n",
    "    by_letter.setdefault(letter, []).append(word)\n",
    "\n",
    "by_letter"
   ]
  },
  {
   "cell_type": "markdown",
   "id": "d6047d1e-3378-47b3-9696-be9e12759073",
   "metadata": {},
   "source": [
    "The built-in collections module has a useful class, `defaultdict`, which makes this even easier. To create one, you pass a type or function for generating the default value for each slot in the dictionary:"
   ]
  },
  {
   "cell_type": "code",
   "execution_count": 10,
   "id": "ba621970-e523-4587-ab6e-8bdb1ea8176c",
   "metadata": {},
   "outputs": [
    {
     "data": {
      "text/plain": [
       "defaultdict(list, {'a': ['apple', 'atom'], 'b': ['bat', 'bar', 'book']})"
      ]
     },
     "execution_count": 10,
     "metadata": {},
     "output_type": "execute_result"
    }
   ],
   "source": [
    "from collections import defaultdict\n",
    "by_letter = defaultdict(list)\n",
    "\n",
    "for word in words:\n",
    "    by_letter[word[0]].append(word)\n",
    "\n",
    "by_letter"
   ]
  },
  {
   "cell_type": "markdown",
   "id": "2192b522-37ab-464c-989c-e3e8f38810b6",
   "metadata": {},
   "source": [
    "While the values of a dictionary can be any Python object, the keys generally have to be immutable objects like scalar types (int, float, string) or tuples (all the objects in the tuple need to be immutable, too). The technical term here is hashability. You can check whether an object is hashable (can be used as a key in a dictionary) with the hash function:"
   ]
  },
  {
   "cell_type": "code",
   "execution_count": 12,
   "id": "f5778cd7-f1e5-4a4c-9e06-13d1f12ba7ee",
   "metadata": {},
   "outputs": [
    {
     "data": {
      "text/plain": [
       "7322611513465327997"
      ]
     },
     "execution_count": 12,
     "metadata": {},
     "output_type": "execute_result"
    }
   ],
   "source": [
    "hash(\"string\")"
   ]
  },
  {
   "cell_type": "code",
   "execution_count": 13,
   "id": "e6700a3d-9ba9-4432-886d-c6ffa0e4754c",
   "metadata": {},
   "outputs": [
    {
     "ename": "TypeError",
     "evalue": "unhashable type: 'list'",
     "output_type": "error",
     "traceback": [
      "\u001b[0;31m---------------------------------------------------------------------------\u001b[0m",
      "\u001b[0;31mTypeError\u001b[0m                                 Traceback (most recent call last)",
      "Cell \u001b[0;32mIn[13], line 1\u001b[0m\n\u001b[0;32m----> 1\u001b[0m \u001b[38;5;28;43mhash\u001b[39;49m\u001b[43m(\u001b[49m\u001b[43m[\u001b[49m\u001b[38;5;241;43m1\u001b[39;49m\u001b[43m,\u001b[49m\u001b[38;5;241;43m2\u001b[39;49m\u001b[43m]\u001b[49m\u001b[43m)\u001b[49m\n",
      "\u001b[0;31mTypeError\u001b[0m: unhashable type: 'list'"
     ]
    }
   ],
   "source": [
    "hash([1,2])"
   ]
  },
  {
   "cell_type": "code",
   "execution_count": null,
   "id": "6bc34156-0b03-463d-8537-cd9f5e893206",
   "metadata": {},
   "outputs": [],
   "source": []
  }
 ],
 "metadata": {
  "kernelspec": {
   "display_name": "Python 3 (ipykernel)",
   "language": "python",
   "name": "python3"
  },
  "language_info": {
   "codemirror_mode": {
    "name": "ipython",
    "version": 3
   },
   "file_extension": ".py",
   "mimetype": "text/x-python",
   "name": "python",
   "nbconvert_exporter": "python",
   "pygments_lexer": "ipython3",
   "version": "3.10.18"
  }
 },
 "nbformat": 4,
 "nbformat_minor": 5
}
