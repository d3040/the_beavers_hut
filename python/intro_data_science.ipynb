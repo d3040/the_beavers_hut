{
 "cells": [
  {
   "cell_type": "markdown",
   "id": "01093f84-042d-4c89-94a6-f402b9b7b4cc",
   "metadata": {},
   "source": [
    "[Python for Data Analysis, 3E -Open Edition](https://wesmckinney.com/book)"
   ]
  },
  {
   "cell_type": "markdown",
   "id": "462f41fc-214e-43a1-9c07-2ede3a938222",
   "metadata": {},
   "source": [
    "# Introduction to Data Science in Python"
   ]
  },
  {
   "cell_type": "markdown",
   "id": "decdec6c-9d72-4a57-a411-879fc18079ee",
   "metadata": {},
   "source": [
    "## Essential Python Libraries"
   ]
  },
  {
   "cell_type": "markdown",
   "id": "564a2da1-317b-42e4-a6b5-729d8b8159b0",
   "metadata": {},
   "source": [
    "* NumPy (Numerical Python)\n",
    "* pandas\n",
    "* matplotlib\n",
    "* IPython and Jupyter\n",
    "* SciPy\n",
    "* scikit-learn\n",
    "* statsmodels\n",
    "* Miniconda, a minimal installation of the conda package manager, along with conda-forge, a community-maintained software distribution based on conda."
   ]
  },
  {
   "cell_type": "markdown",
   "id": "0df6c367-ed78-46bc-918f-369cdc349bfb",
   "metadata": {},
   "source": [
    "[Reference for installation](https://wesmckinney.com/book/preliminaries#installation_mac)"
   ]
  },
  {
   "cell_type": "markdown",
   "id": "b529456f-4e17-4575-b22d-60aa1ffb0257",
   "metadata": {},
   "source": [
    "## Intro commands"
   ]
  },
  {
   "cell_type": "markdown",
   "id": "6b933266-6078-4c38-b6f3-14033b4094be",
   "metadata": {},
   "source": [
    "* Running the Jypyter Notebook: `jupyter notebook`.\n",
    "* Running the IPython Shell: `ipython`.\n",
    "* Activate Conda virtual environment: `conda activate <venv name>`."
   ]
  },
  {
   "cell_type": "markdown",
   "id": "d8e1e93b-40f6-42f8-9ee4-53f4db69b9ac",
   "metadata": {},
   "source": [
    "## Fundamentals of Data Manipulation with Python"
   ]
  },
  {
   "cell_type": "markdown",
   "id": "e16a47dd-f549-4c4a-9792-b2b3e8a3fafc",
   "metadata": {},
   "source": [
    "Note that list concatenation by addition is a comparatively expensive operation since a new list must be created and the objects copied over. Using extend to append elements to an existing list, especially if you are building up a large list, is usually preferable. Thus:"
   ]
  },
  {
   "cell_type": "code",
   "execution_count": 27,
   "id": "42b8c089-8abd-4c90-b0dc-be1dd24ce5dc",
   "metadata": {},
   "outputs": [
    {
     "data": {
      "text/plain": [
       "[0, 1, 2, 1, 2, 3, 2, 3, 4, 3, 4, 5, 4, 5, 6]"
      ]
     },
     "execution_count": 27,
     "metadata": {},
     "output_type": "execute_result"
    }
   ],
   "source": [
    "list_of_lists = [[i, i + 1, i + 2] for i in range(5)]\n",
    "everything = []\n",
    "for chunk in list_of_lists:\n",
    "    everything.extend(chunk)\n",
    "\n",
    "everything"
   ]
  },
  {
   "cell_type": "markdown",
   "id": "fae95ebd-d4f0-4210-8f1f-63fd84840746",
   "metadata": {},
   "source": [
    "You can select sections of most sequence types by using slice notation, which in its basic form consists of *start:stop* passed to the indexing operator []. Slices can also be assigned with a sequence:"
   ]
  },
  {
   "cell_type": "code",
   "execution_count": 28,
   "id": "e2700456-fb58-4f1a-9fe3-c24f32ae6fd3",
   "metadata": {},
   "outputs": [
    {
     "data": {
      "text/plain": [
       "[7, 2, 3, 6, 3, 6, 0, 1]"
      ]
     },
     "execution_count": 28,
     "metadata": {},
     "output_type": "execute_result"
    }
   ],
   "source": [
    "seq = [7, 2, 3, 7, 5, 6, 0, 1]\n",
    "seq[3:5] = [6, 3]\n",
    "\n",
    "seq"
   ]
  },
  {
   "cell_type": "markdown",
   "id": "5a4a3849-7f13-47f0-89ab-7b368febd60b",
   "metadata": {},
   "source": [
    "A `step` can also be used after a second colon to, say, take every other element:"
   ]
  },
  {
   "cell_type": "code",
   "execution_count": 29,
   "id": "9149a304-7c65-4018-96aa-175329fda960",
   "metadata": {},
   "outputs": [
    {
     "data": {
      "text/plain": [
       "[7, 3, 3, 0]"
      ]
     },
     "execution_count": 29,
     "metadata": {},
     "output_type": "execute_result"
    }
   ],
   "source": [
    "seq[::2]"
   ]
  },
  {
   "cell_type": "markdown",
   "id": "dac57650-db06-49c7-9616-773ed982db27",
   "metadata": {},
   "source": [
    "A clever use of this is to pass -1, which has the useful effect of reversing a list or tuple:"
   ]
  },
  {
   "cell_type": "code",
   "execution_count": 30,
   "id": "7b64576c-9092-4cba-aeec-5cdd626ad6a1",
   "metadata": {},
   "outputs": [
    {
     "data": {
      "text/plain": [
       "[1, 0, 6, 3, 6, 3, 2, 7]"
      ]
     },
     "execution_count": 30,
     "metadata": {},
     "output_type": "execute_result"
    }
   ],
   "source": [
    "seq[::-1]"
   ]
  },
  {
   "cell_type": "markdown",
   "id": "a2255a5e-f553-495e-ad1d-f379d3eff920",
   "metadata": {},
   "source": [
    "You can merge one dictionary into another using the update method:"
   ]
  },
  {
   "cell_type": "code",
   "execution_count": 31,
   "id": "27d8e7d9-e3bb-4765-abc9-947392d41c5a",
   "metadata": {},
   "outputs": [
    {
     "data": {
      "text/plain": [
       "{'a': 1, 'b': 'foo', 'c': 12}"
      ]
     },
     "execution_count": 31,
     "metadata": {},
     "output_type": "execute_result"
    }
   ],
   "source": [
    "d1 = {\"a\": 1, \"b\": 2}\n",
    "d1.update({\"b\": \"foo\", \"c\": 12})\n",
    "d1"
   ]
  },
  {
   "cell_type": "markdown",
   "id": "97153c23-5b6c-4879-8b56-d49ec379fac2",
   "metadata": {},
   "source": [
    "It’s common to occasionally end up with **two sequences that you want to pair up element-wise in a dictionary**. As a first cut, you might write code like this:"
   ]
  },
  {
   "cell_type": "markdown",
   "id": "122af097-5e4c-44b9-adf8-995240844507",
   "metadata": {},
   "source": [
    "```python\n",
    "mapping = {}\n",
    "for key, value in zip(key_list, value_list):\n",
    "    mapping[key] = value\n",
    "```"
   ]
  },
  {
   "cell_type": "code",
   "execution_count": 32,
   "id": "bfd2bcc6-729b-4a4e-b498-16df0caa2d88",
   "metadata": {},
   "outputs": [
    {
     "data": {
      "text/plain": [
       "<zip at 0x105303480>"
      ]
     },
     "execution_count": 32,
     "metadata": {},
     "output_type": "execute_result"
    }
   ],
   "source": [
    "tuples = zip(range(5), reversed(range(5)))\n",
    "tuples"
   ]
  },
  {
   "cell_type": "code",
   "execution_count": 33,
   "id": "cfb6c32c-9494-4abf-a18a-da066776582d",
   "metadata": {},
   "outputs": [
    {
     "data": {
      "text/plain": [
       "{0: 4, 1: 3, 2: 2, 3: 1, 4: 0}"
      ]
     },
     "execution_count": 33,
     "metadata": {},
     "output_type": "execute_result"
    }
   ],
   "source": [
    "mapping = dict(tuples)\n",
    "mapping"
   ]
  },
  {
   "cell_type": "markdown",
   "id": "1f51eb5a-9d37-4738-82f2-00405b742d50",
   "metadata": {},
   "source": [
    "<dl>\n",
    "    <dt>zip:</dt>\n",
    "    <dd>zip “pairs” up the elements of a number of lists, tuples, or other sequences to create a list of tuples. It can take an arbitrary number of sequences, and the number of elements it produces is determined by the shortest sequence. A common use of zip is simultaneously iterating over multiple sequences, possibly also combined with enumerate:</dd>\n",
    "</dl>"
   ]
  },
  {
   "cell_type": "code",
   "execution_count": 34,
   "id": "6be8a643-784a-400b-9a2b-dbb31bcad7a3",
   "metadata": {},
   "outputs": [
    {
     "data": {
      "text/plain": [
       "[('foo', 'one', False), ('bar', 'two', True)]"
      ]
     },
     "execution_count": 34,
     "metadata": {},
     "output_type": "execute_result"
    }
   ],
   "source": [
    "# shortest sequence\n",
    "seq1 = [\"foo\", \"bar\", \"baz\"]\n",
    "seq2 = [\"one\", \"two\", \"three\"]\n",
    "seq3 = [False, True]\n",
    "\n",
    "list(zip(seq1, seq2, seq3))"
   ]
  },
  {
   "cell_type": "code",
   "execution_count": 35,
   "id": "ccc7add5-cffb-4316-a618-ed1551e17789",
   "metadata": {},
   "outputs": [
    {
     "name": "stdout",
     "output_type": "stream",
     "text": [
      "0: foo, one\n",
      "1: bar, two\n",
      "2: baz, three\n"
     ]
    }
   ],
   "source": [
    "# simultaneously iterating over multiple sequences\n",
    "for index, (a, b) in enumerate(zip(seq1, seq2)):\n",
    "    print(f\"{index}: {a}, {b}\")"
   ]
  },
  {
   "cell_type": "markdown",
   "id": "b17aa2df-5de5-42bf-9677-ef999d543b7f",
   "metadata": {},
   "source": [
    "The `setdefault` dictionary method can be used to simplify stuff:"
   ]
  },
  {
   "cell_type": "code",
   "execution_count": 36,
   "id": "ddeb8e06-8f7a-4cd6-9a29-533f96581b64",
   "metadata": {},
   "outputs": [
    {
     "data": {
      "text/plain": [
       "{'a': ['apple', 'atom'], 'b': ['bat', 'bar', 'book']}"
      ]
     },
     "execution_count": 36,
     "metadata": {},
     "output_type": "execute_result"
    }
   ],
   "source": [
    "words = [\"apple\", \"bat\", \"bar\", \"atom\", \"book\"]\n",
    "by_letter = {}\n",
    "\n",
    "for word in words:\n",
    "    letter = word[0]\n",
    "    by_letter.setdefault(letter, []).append(word)\n",
    "\n",
    "by_letter"
   ]
  },
  {
   "cell_type": "markdown",
   "id": "d6047d1e-3378-47b3-9696-be9e12759073",
   "metadata": {},
   "source": [
    "The built-in collections module has a useful class, `defaultdict`, which makes this even easier. To create one, you pass a type or function for generating the default value for each slot in the dictionary:"
   ]
  },
  {
   "cell_type": "code",
   "execution_count": 37,
   "id": "ba621970-e523-4587-ab6e-8bdb1ea8176c",
   "metadata": {},
   "outputs": [
    {
     "data": {
      "text/plain": [
       "defaultdict(list, {'a': ['apple', 'atom'], 'b': ['bat', 'bar', 'book']})"
      ]
     },
     "execution_count": 37,
     "metadata": {},
     "output_type": "execute_result"
    }
   ],
   "source": [
    "from collections import defaultdict\n",
    "by_letter = defaultdict(list)\n",
    "\n",
    "for word in words:\n",
    "    by_letter[word[0]].append(word)\n",
    "\n",
    "by_letter"
   ]
  },
  {
   "cell_type": "markdown",
   "id": "2192b522-37ab-464c-989c-e3e8f38810b6",
   "metadata": {},
   "source": [
    "While the values of a dictionary can be any Python object, the keys generally have to be immutable objects like scalar types (int, float, string) or tuples (all the objects in the tuple need to be immutable, too). The technical term here is hashability. You can check whether an object is hashable (can be used as a key in a dictionary) with the hash function:"
   ]
  },
  {
   "cell_type": "code",
   "execution_count": 38,
   "id": "f5778cd7-f1e5-4a4c-9e06-13d1f12ba7ee",
   "metadata": {},
   "outputs": [
    {
     "data": {
      "text/plain": [
       "-3842245639611595742"
      ]
     },
     "execution_count": 38,
     "metadata": {},
     "output_type": "execute_result"
    }
   ],
   "source": [
    "hash(\"string\")"
   ]
  },
  {
   "cell_type": "code",
   "execution_count": 39,
   "id": "e6700a3d-9ba9-4432-886d-c6ffa0e4754c",
   "metadata": {},
   "outputs": [
    {
     "ename": "TypeError",
     "evalue": "unhashable type: 'list'",
     "output_type": "error",
     "traceback": [
      "\u001b[31m---------------------------------------------------------------------------\u001b[39m",
      "\u001b[31mTypeError\u001b[39m                                 Traceback (most recent call last)",
      "\u001b[36mCell\u001b[39m\u001b[36m \u001b[39m\u001b[32mIn[39]\u001b[39m\u001b[32m, line 1\u001b[39m\n\u001b[32m----> \u001b[39m\u001b[32m1\u001b[39m \u001b[38;5;28;43mhash\u001b[39;49m\u001b[43m(\u001b[49m\u001b[43m[\u001b[49m\u001b[32;43m1\u001b[39;49m\u001b[43m,\u001b[49m\u001b[32;43m2\u001b[39;49m\u001b[43m]\u001b[49m\u001b[43m)\u001b[49m\n",
      "\u001b[31mTypeError\u001b[39m: unhashable type: 'list'"
     ]
    }
   ],
   "source": [
    "hash([1,2])"
   ]
  },
  {
   "cell_type": "markdown",
   "id": "e9976c15-6a44-4de2-bbbd-201406879874",
   "metadata": {},
   "source": [
    "### List, Set, and Dictionary Comprehensions"
   ]
  },
  {
   "cell_type": "markdown",
   "id": "ba41d7c2-e254-4f72-b4d0-3a100f1c48db",
   "metadata": {},
   "source": [
    "List comprehensions are a convenient and widely used Python language feature. They allow you to concisely form a new list by filtering the elements of a collection, transforming the elements passing the filter into one concise expression. They take the basic form:\n",
    "\n",
    "```python \n",
    "[expr for value in collection if condition]\n",
    "```"
   ]
  },
  {
   "cell_type": "code",
   "execution_count": 40,
   "id": "53909ede-1b42-47ea-b9a9-8ea697f1b557",
   "metadata": {},
   "outputs": [
    {
     "data": {
      "text/plain": [
       "['BAT', 'CAR', 'DOVE', 'PYTHON']"
      ]
     },
     "execution_count": 40,
     "metadata": {},
     "output_type": "execute_result"
    }
   ],
   "source": [
    "# example filtering out a list of strings with length 2 or less\n",
    "strings = [\"a\", \"as\", \"bat\", \"car\", \"dove\", \"python\"]\n",
    "[x.upper() for x in strings if len(x) > 2]"
   ]
  },
  {
   "cell_type": "code",
   "execution_count": 41,
   "id": "683d8fb7-150e-464c-9bfc-c9a8340db663",
   "metadata": {},
   "outputs": [
    {
     "data": {
      "text/plain": [
       "{1, 2, 3, 4, 6}"
      ]
     },
     "execution_count": 41,
     "metadata": {},
     "output_type": "execute_result"
    }
   ],
   "source": [
    "# example of set comprehension\n",
    "\n",
    "unique_lengths = {len(x) for x in strings}\n",
    "unique_lengths"
   ]
  },
  {
   "cell_type": "code",
   "execution_count": 42,
   "id": "9c7558fc-5706-4305-93f0-5ead0f51b3c9",
   "metadata": {},
   "outputs": [
    {
     "data": {
      "text/plain": [
       "{1, 2, 3, 4, 6}"
      ]
     },
     "execution_count": 42,
     "metadata": {},
     "output_type": "execute_result"
    }
   ],
   "source": [
    "# same expression using map function\n",
    "set(map(len, strings))"
   ]
  },
  {
   "cell_type": "code",
   "execution_count": 43,
   "id": "7ed74658-8296-4605-8e38-354e1b9af98c",
   "metadata": {},
   "outputs": [
    {
     "data": {
      "text/plain": [
       "{'a': 0, 'as': 1, 'bat': 2, 'car': 3, 'dove': 4, 'python': 5}"
      ]
     },
     "execution_count": 43,
     "metadata": {},
     "output_type": "execute_result"
    }
   ],
   "source": [
    "# creating a lookup map for these strings for ther locations in the list\n",
    "\n",
    "loc_mapping = {value: index for index, value in enumerate(strings)}\n",
    "loc_mapping"
   ]
  },
  {
   "cell_type": "code",
   "execution_count": 44,
   "id": "84153f2a-4485-4898-898f-77591b120c29",
   "metadata": {},
   "outputs": [
    {
     "data": {
      "text/plain": [
       "['Maria', 'Natalia']"
      ]
     },
     "execution_count": 44,
     "metadata": {},
     "output_type": "execute_result"
    }
   ],
   "source": [
    "# get a single list containing all names with two or more a’s in them\n",
    "all_data = [[\"John\", \"Emily\", \"Michael\", \"Mary\", \"Steven\"],\n",
    "            [\"Maria\", \"Juan\", \"Javier\", \"Natalia\", \"Pilar\"]]\n",
    "\n",
    "names_of_interest = [name for names in all_data for name in names if name.count(\"a\") >= 2]\n",
    "\n",
    "\n",
    "names_of_interest\n"
   ]
  },
  {
   "cell_type": "code",
   "execution_count": 45,
   "id": "adc6582f-667e-48dd-b249-857e3a92c01b",
   "metadata": {},
   "outputs": [
    {
     "data": {
      "text/plain": [
       "[1, 2, 3, 4, 5, 6, 7, 8, 9]"
      ]
     },
     "execution_count": 45,
     "metadata": {},
     "output_type": "execute_result"
    }
   ],
   "source": [
    "# flattening a list of tuples\n",
    "some_tuples = [(1, 2, 3), (4, 5, 6), (7, 8, 9)]\n",
    "flattened = [x for tup in some_tuples for x in tup]\n",
    "flattened"
   ]
  },
  {
   "cell_type": "markdown",
   "id": "31b34227-9aef-458e-98bc-b373f3d32289",
   "metadata": {},
   "source": [
    "### Functions"
   ]
  },
  {
   "cell_type": "markdown",
   "id": "79da9f7d-6b2a-4fbf-94cc-4aed28c7f814",
   "metadata": {},
   "source": [
    "Each function can have _positional arguments_ and _keyword arguments_. Keyword arguments are most commonly used to specify default values or optional arguments. All positional arguments must be specified when calling a function. The main restriction on function arguments is that the keyword arguments must follow the positional arguments (if any). You cn specify keyword arguments in any order. This frees you from having to remember the order in which the function arguments were specified. You need to remember only what their names are."
   ]
  },
  {
   "cell_type": "markdown",
   "id": "25065921-a8dd-4af1-863a-3c85bbec43d7",
   "metadata": {},
   "source": [
    "**Functions are objects**:"
   ]
  },
  {
   "cell_type": "code",
   "execution_count": 46,
   "id": "e511a8b9-154a-4472-bee1-b89ff8f11f20",
   "metadata": {},
   "outputs": [
    {
     "data": {
      "text/plain": [
       "['Alabama',\n",
       " 'Georgia',\n",
       " 'Georgia',\n",
       " 'Georgia',\n",
       " 'Florida',\n",
       " 'South   Carolina',\n",
       " 'West Virginia']"
      ]
     },
     "execution_count": 46,
     "metadata": {},
     "output_type": "execute_result"
    }
   ],
   "source": [
    "# cleaning strings useful approach\n",
    "import re\n",
    "\n",
    "def remove_punctuation(value):\n",
    "    return re.sub(\"[!#?]\", \"\", value)\n",
    "\n",
    "clean_ops = [str.strip, remove_punctuation, str.title]\n",
    "\n",
    "def clean_strings(strings, ops):\n",
    "    result = []\n",
    "    for value in strings:\n",
    "        for func in ops:\n",
    "            value = func(value)\n",
    "        result.append(value)\n",
    "    return result\n",
    "\n",
    "states = [\"   Alabama \", \"Georgia!\", \"Georgia\", \"georgia\", \"FlOrIda\",\n",
    "          \"south   carolina##\", \"West virginia?\"]\n",
    "\n",
    "clean_strings(states, clean_ops)"
   ]
  },
  {
   "cell_type": "markdown",
   "id": "32efd7f1-be67-421e-95a1-0a2be654a599",
   "metadata": {},
   "source": [
    "You can use functions as arguments to other functions like the built-in `map` function, which applies a function to a sequence of some kind:"
   ]
  },
  {
   "cell_type": "code",
   "execution_count": 47,
   "id": "702fd8bc-7da5-47a5-8489-55d2b662b0d7",
   "metadata": {},
   "outputs": [
    {
     "name": "stdout",
     "output_type": "stream",
     "text": [
      "   Alabama \n",
      "Georgia\n",
      "Georgia\n",
      "georgia\n",
      "FlOrIda\n",
      "south   carolina\n",
      "West virginia\n"
     ]
    }
   ],
   "source": [
    "for x in map(remove_punctuation, states):\n",
    "    print(x)"
   ]
  },
  {
   "cell_type": "markdown",
   "id": "cdcdfe15-d448-4a97-a3fc-d98b83d07144",
   "metadata": {},
   "source": [
    "#### Anonymous (Lambda) Functions"
   ]
  },
  {
   "cell_type": "markdown",
   "id": "b0da2171-2644-45cf-acbc-64476cf47637",
   "metadata": {},
   "source": [
    "Are a way of writing functions consisting of a single statement, the result of which is the return value. They are defined with the `lambda` keyword, which has no meaning other than \"we are declaring an anonymous function\". Thery are specially convenient in data analysis because there are many cases where data transformation functions will take functions as arguments, and instead of writing a full-out function declaration, one just assign the lambda function. It also make a clearer statement.\n"
   ]
  },
  {
   "cell_type": "code",
   "execution_count": 48,
   "id": "8e249261-49da-4773-b1fe-1083d2c4fac0",
   "metadata": {},
   "outputs": [
    {
     "data": {
      "text/plain": [
       "[8, 0, 2, 10, 12]"
      ]
     },
     "execution_count": 48,
     "metadata": {},
     "output_type": "execute_result"
    }
   ],
   "source": [
    "# lambda example\n",
    "def apply_to_list(some_list, f):\n",
    "    return [f(x) for x in some_list]\n",
    "\n",
    "ints = [4, 0, 1, 5, 6]\n",
    "\n",
    "apply_to_list(ints, lambda x: x * 2)"
   ]
  },
  {
   "cell_type": "code",
   "execution_count": 49,
   "id": "6697954d-27f3-47b8-81da-e1526d2b72eb",
   "metadata": {},
   "outputs": [
    {
     "name": "stdout",
     "output_type": "stream",
     "text": [
      "{('o', 'f'): 2, ('r', 'c', 'd', 'a'): 4, ('r', 'b', 'a'): 3, ('a',): 1, ('d', 'b', 'a'): 3}\n",
      "Collection sorted: ['aaa', 'foo', 'bar', 'abad', 'card']\n"
     ]
    }
   ],
   "source": [
    "# also could be pass a lambda funtion to the list's `sort` method to sort a \n",
    "# collection of strings by the number of distinct letters in each string.\n",
    "strings = [\"foo\", \"card\", \"bar\", \"aaa\", \"abad\"]\n",
    "\n",
    "set_of_strings = {tuple(set(string)): len(set(string)) for string in strings}\n",
    "\n",
    "print(set_of_strings)\n",
    "\n",
    "strings.sort(key=lambda x: len(set(x)))\n",
    "\n",
    "print(f\"Collection sorted: {strings}\")"
   ]
  },
  {
   "cell_type": "markdown",
   "id": "426a9e8c-8d3c-4dfb-82f2-3cc3110bbc72",
   "metadata": {},
   "source": [
    "### Generators"
   ]
  },
  {
   "cell_type": "markdown",
   "id": "05594474-7284-4815-85b3-5fa162fc3027",
   "metadata": {},
   "source": [
    "The *iterator protocol* is a generic way to make objects iterable. An iterator is any object that will yield objects to the Python interpreter when used in a context like a `for` loop. A `generator` is a convenient way to construct a new iterable object. Generators can return a sequence of multiple values by pausing and resuming execution each time the generator is used. To create a generator, use the `yield` keyword instead of `return` in a function:"
   ]
  },
  {
   "cell_type": "code",
   "execution_count": 50,
   "id": "07c90460-43fd-44ca-99a2-8d511267eb98",
   "metadata": {},
   "outputs": [
    {
     "name": "stdout",
     "output_type": "stream",
     "text": [
      "<generator object squares at 0x105325620>\n",
      "Generating squares from 1 to 100: 1 4 9 16 25 36 49 64 81 100 "
     ]
    }
   ],
   "source": [
    "# defining a function using the yield keyword\n",
    "def squares(n=10):\n",
    "    print(f\"Generating squares from 1 to {n ** 2}:\", end=\" \")\n",
    "    for i in range(1, n + 1):\n",
    "        yield i ** 2\n",
    "\n",
    "# when calling the generator, no code is immediately executed\n",
    "gen = squares()\n",
    "print(gen)\n",
    "\n",
    "# until the elements are requested from the generator\n",
    "for x in gen:\n",
    "    print(x, end=\" \")\n"
   ]
  },
  {
   "cell_type": "markdown",
   "id": "5b8c992a-df6e-4073-93ab-66a6a06aac35",
   "metadata": {},
   "source": [
    ":::note\n",
    "Generators help your program use less memory by the fact that produce output one element at a time versus an entire list all at once.\n",
    ":::"
   ]
  },
  {
   "cell_type": "markdown",
   "id": "64760479-4530-4791-b75f-3feed9b91097",
   "metadata": {},
   "source": [
    "#### Generator expressions"
   ]
  },
  {
   "cell_type": "code",
   "execution_count": 51,
   "id": "8a2465da-8c89-49ce-abc5-778f0d1e2c89",
   "metadata": {},
   "outputs": [
    {
     "name": "stdout",
     "output_type": "stream",
     "text": [
      "<generator object <genexpr> at 0x1053ec5f0>\n"
     ]
    }
   ],
   "source": [
    "# like list,dictionary and set comprehensions, to create one use parenthesis instead of brackets\n",
    "gen = (x ** 2 for x in range(100))\n",
    "print(gen)"
   ]
  },
  {
   "cell_type": "code",
   "execution_count": 52,
   "id": "0bf46d79-106a-4de3-8486-d67eab1355d2",
   "metadata": {},
   "outputs": [
    {
     "data": {
      "text/plain": [
       "328350"
      ]
     },
     "execution_count": 52,
     "metadata": {},
     "output_type": "execute_result"
    }
   ],
   "source": [
    "# can be used as function arguments in some cases\n",
    "sum(x ** 2 for x in range(100))"
   ]
  },
  {
   "cell_type": "markdown",
   "id": "8d13f3b0-8b2a-43b3-b1ff-99864e8abdb9",
   "metadata": {},
   "source": [
    "#### Some useful itertools functions:"
   ]
  },
  {
   "cell_type": "markdown",
   "id": "9d16da3f-23ee-4e88-98ff-c7a465e79eeb",
   "metadata": {},
   "source": [
    "| Function                      | Description                                                                                                                                                                          |\n",
    "|-------------------------------|--------------------------------------------------------------------------------------------------------------------------------------------------------------------------------------|\n",
    "| chain(*iterables)             | Generates a sequence by chaining iterators together. Once elements from   the first iterator are exhausted, elements from the next iterator are   returned, and so on.               |\n",
    "| combinations(iterable, k)     | Generates a sequence of all possible k-tuples of elements in the iterable, ignoring order and without   replacement (see also the companion function combinations_with_replacement). |\n",
    "| permutations(iterable, k)     | Generates a sequence of all possible k-tuples of elements in the iterable, respecting order.                                                                                         |\n",
    "| groupby(iterable[, keyfunc])  | Generates (key, sub-iterator) for each unique key.                                                                                                                                   |\n",
    "| product(*iterables, repeat=1) | Generates the Cartesian product of the input iterables as tuples, similar   to a nested for loop.                                                                                    |\n",
    "\n",
    "more @ [the official Python documentation](https://docs.python.org/3/library/itertools.html)."
   ]
  },
  {
   "cell_type": "markdown",
   "id": "d5117ae4-be35-448e-9117-9975be7bc5c9",
   "metadata": {},
   "source": [
    "### Errors and Exception handling"
   ]
  },
  {
   "cell_type": "code",
   "execution_count": 53,
   "id": "68e4872b-9718-42bc-b4b6-65c6aa5fe0d0",
   "metadata": {},
   "outputs": [
    {
     "data": {
      "text/plain": [
       "'something'"
      ]
     },
     "execution_count": 53,
     "metadata": {},
     "output_type": "execute_result"
    }
   ],
   "source": [
    "# basic structure\n",
    "\n",
    "def attempt_float(x):\n",
    "    try: # attempt next statement\n",
    "        return float(x)\n",
    "    except (TypeError, ValueError): #identifying type of error, if left blank (no tuple o value) it catches all types of error\n",
    "        return x # statement if error catched\n",
    "\n",
    "attempt_float(\"something\")        "
   ]
  },
  {
   "cell_type": "markdown",
   "id": "36de64dd-b9e5-42fe-b4f0-2e0ea4fede68",
   "metadata": {},
   "source": [
    "``` python\n",
    "# forcing some code to be executed regardless of whether or not the code in the try block succeeds\n",
    "\n",
    "f = open(path, mode=\"w\")\n",
    "\n",
    "try:\n",
    "    write_to_file(f)\n",
    "except:\n",
    "    print(\"Failed\")\n",
    "else: # executed if try statement succeeds\n",
    "    print(\"Succeded\")\n",
    "finally:\n",
    "    f.close() # the f object always get closed\n",
    "```"
   ]
  },
  {
   "cell_type": "markdown",
   "id": "8cc42371-5dfe-47ce-a7bd-4a14570b7bf1",
   "metadata": {},
   "source": [
    "### Files and the Operating System"
   ]
  },
  {
   "cell_type": "markdown",
   "id": "ad6025eb-043d-4684-b1a8-b93b6da7e0c6",
   "metadata": {},
   "source": [
    "To open a file for reading or writing, use the built-in `open` function. As a best practice pass the `encoding=\"utf-8\"` keyword argument because the default Unicode encoding for reading files varies from platform to platform. By default, the file is opened in read-only mode `\"r\"`. Then, the file, can be used as a list and be iterated over (the file comes out of the file with the end-of-line markers intact). When using `open` for creating file objects, ensure the file is closed (`f.close()`), this releases its resources back to the operating system. One way to make it easier to clean up open files is to use the `with` statement:\n",
    "\n",
    "```python\n",
    "with open(path, encoding=\"utf-8\") as f:\n",
    "    lines = [x.rstrip() for x in f]\n",
    "```\n",
    "\n",
    "This will automatically close the file when exiting the `with` block. Next table shows **Python file modes**.\n",
    "\n",
    "| Mode | Description                                                                                         |\n",
    "|------|-----------------------------------------------------------------------------------------------------|\n",
    "| r    | Read-only mode                                                                                      |\n",
    "| w    | Write-only mode; creates a new file (erasing the data for any file with the same name)              |\n",
    "| x    | Write-only mode; creates a new file but fails if the file path already exists                       |\n",
    "| a    | Append to existing file (creates the file if it does not already exist)                             |\n",
    "| r+   | Read and write                                                                                      |\n",
    "| b    | Add to mode for binary files (i.e., \"rb\" or \"wb\")                                                   |\n",
    "| t    | Text mode for files (automatically decoding bytes to Unicode); this is the default if not specified |\n"
   ]
  },
  {
   "cell_type": "markdown",
   "id": "ef98b3f8-8a10-41ed-89e0-9d2b01cc3ec7",
   "metadata": {},
   "source": [
    "#### Most commonly used methods"
   ]
  },
  {
   "cell_type": "markdown",
   "id": "b90ec364-6de2-40fc-958a-da86235ded91",
   "metadata": {},
   "source": [
    "| Method/Attribute | Description |\n",
    "|------------------|-------------|\n",
    "| **read([size])** | Return data from file as bytes or string depending on the file mode, with optional `size` argument indicating the number of bytes or string characters to read. |\n",
    "| **readable()** | Return `True` if the file supports `read` operations. |\n",
    "| **readlines([size])** | Return list of lines in the file, with optional `size` argument. |\n",
    "| **write(string)** | Write passed string to file. |\n",
    "| **writable()** | Return `True` if the file supports write operations. |\n",
    "| **writelines(strings)** | Write passed sequence of strings to the file. |\n",
    "| **close()** | Close the file object. |\n",
    "| **flush()** | Flush the internal I/O buffer to disk. |\n",
    "| **seek(pos)** | Move to indicated file position (integer). Beware using `seek` when opening files in any mode other than binary. If the file position falls in the middle of the bytes defining a Unicode character, then subsequent reads will result in an error. |\n",
    "| **seekable()** | Return `True` if the file object supports seeking and thus random access (some file-like objects do not). |\n",
    "| **tell()** | Return current file position as integer. |\n",
    "| **closed** | `True` if the file is closed. |\n",
    "| **encoding** | The encoding used to interpret bytes in the file as Unicode (use **UTF-8**). |\n"
   ]
  },
  {
   "cell_type": "markdown",
   "id": "0c1cbc9a-db27-4a64-af83-20c43eed8498",
   "metadata": {},
   "source": [
    "The default behavior for Python files (whether readable or writable) is text mode, which means that you intend to work with Python strings (i.e., Unicode). This contrasts with binary mode, which you can obtain by appending b to the file mode. UTF-8 is a variable-length Unicode encoding, so when I request some number of characters from the file, Python reads enough bytes (which could be as few as 10 or as many as 40 bytes) from the file to decode that many characters. If I open the file in \"rb\" mode instead, `read` requests that exact number of bytes. "
   ]
  },
  {
   "cell_type": "markdown",
   "id": "f71cf700-7c38-4062-baae-4972ab10fabc",
   "metadata": {},
   "source": [
    "## NumPy Basics: Arrays and Vectorized Computation "
   ]
  },
  {
   "cell_type": "markdown",
   "id": "06964133-da8f-4de8-a624-544025172cf0",
   "metadata": {},
   "source": [
    "One of the reasons NumPy (Numerical Python) is so important for numerical computations in Python is because it is designed for efficiency on large arrays of data. NumPy-based algorithms are generally 10 to 100 times faster (or more) than their pure Python counterparts and use significantly less memory."
   ]
  },
  {
   "cell_type": "markdown",
   "id": "1731de6a-4ea3-4578-8d4b-4b533a7e4044",
   "metadata": {},
   "source": [
    ":::note\n",
    "In this chapter and throughout the book, I use the standard NumPy convention of always using `import numpy as np`. \n",
    "It would be possible to put `from numpy import *` in your code to avoid having to write np., but I advise against making a habit of this. \n",
    "The numpy namespace is large and contains a number of functions whose names conflict with built-in Python functions (like `min` and `max`). \n",
    "Following standard conventions like these is almost always a good idea.\n",
    ":::"
   ]
  },
  {
   "cell_type": "markdown",
   "id": "2e9da3d2-195a-4c1b-98f8-245cfa551d31",
   "metadata": {},
   "source": [
    "### Some important NumPy array creation functions"
   ]
  },
  {
   "cell_type": "code",
   "execution_count": null,
   "id": "44badc82-af64-485b-89d5-d41851996e3f",
   "metadata": {},
   "outputs": [],
   "source": []
  },
  {
   "cell_type": "markdown",
   "id": "688a283d-c827-4b27-aa42-79e1811adb4d",
   "metadata": {},
   "source": [
    "| Function             | Description |\n",
    "|----------------------|-------------|\n",
    "| `array`              | Convert input data (list, tuple, array, or other sequence type) to an `ndarray` either by inferring a data type or explicitly specifying a data type; copies the input data by default. |\n",
    "| `asarray`            | Convert input to `ndarray`, but do not copy if the input is already an `ndarray`. |\n",
    "| `arange`             | Like the built-in `range` but returns an `ndarray` instead of a list. |\n",
    "| `ones`, `ones_like`  | Produce an array of all 1s with the given shape and data type; `ones_like` takes another array and produces a ones array of the same shape and data type. |\n",
    "| `zeros`, `zeros_like`| Like `ones` and `ones_like` but producing arrays of 0s instead. |\n",
    "| `empty`, `empty_like`| Create new arrays by allocating new memory, but do not populate with any values like `ones` and `zeros`. |\n",
    "| `full`, `full_like`  | Produce an array of the given shape and data type with all values set to the indicated \"fill value\"; `full_like` takes another array and produces a filled array of the same shape and data type. |\n",
    "| `eye`, `identity`    | Create a square N × N identity matrix (1s on the diagonal and 0s elsewhere). |"
   ]
  },
  {
   "cell_type": "code",
   "execution_count": 11,
   "id": "3d39126b-1d01-40e3-8d13-dde7cf410a86",
   "metadata": {},
   "outputs": [
    {
     "name": "stdout",
     "output_type": "stream",
     "text": [
      "[b'1.25' b'-9.6' b'42']\n",
      "[ 1.25 -9.6  42.  ]\n"
     ]
    }
   ],
   "source": [
    "# convert strings representing numbers to numeric form\n",
    "import numpy as np\n",
    "numeric_strings = np.array([\"1.25\", \"-9.6\", \"42\"], dtype=np.bytes_)\n",
    "\n",
    "print(numeric_strings)\n",
    "# calling astype always creates a new array (a copy of the data), even if the new data is the same as the old data type\n",
    "print(numeric_strings.astype(float))"
   ]
  },
  {
   "cell_type": "markdown",
   "id": "8cd6d72e-fce6-4d23-ac65-54cdb715a2b0",
   "metadata": {},
   "source": [
    "Arrays are important because they enable you to express batch operations on data without writing any `for` loops. Numpy users call this *vectorization*. Any arithmetic operations between equal-size arrays apply the operation element-wise. Also, arithmetic operations with scalar propagate the scalar argument to each element in the array. Comparisons between arrays of the same size yield Boolean arrays. \n",
    "\n",
    "If you want a copy of a slice of an ndarray instead of a view, it will be needed to explicitly copy the array (e.g. `arr[5:8].copy()`).\n",
    "\n",
    "In a two-dimensional array, the elements at each index are no longer scalars but one-dimensional arrays. Thus, individual elements can be accessed recursively. But that is a bit too much work, so **you can pass a comma-separated listo of indices to select individual elements**:"
   ]
  },
  {
   "cell_type": "code",
   "execution_count": 34,
   "id": "ca5cf650-ae9e-4cb4-b497-fbfb61f444a0",
   "metadata": {},
   "outputs": [
    {
     "name": "stdout",
     "output_type": "stream",
     "text": [
      "[[1 2 3]\n",
      " [4 5 6]\n",
      " [7 8 9]]\n",
      "\n",
      "a) [0][2]:  3\n",
      "b) [0, 2]:  3\n"
     ]
    }
   ],
   "source": [
    "arr2d = np.array([[1, 2, 3], [4, 5, 6], [7, 8, 9]])\n",
    "print(arr2d, end=\"\\n\\n\")\n",
    "print(\"a) [0][2]: \", arr2d[0][2])\n",
    "print(\"b) [0, 2]: \", arr2d[0, 2])"
   ]
  },
  {
   "cell_type": "markdown",
   "id": "45520aab-ea12-48e9-9f13-8744236a1ae8",
   "metadata": {},
   "source": [
    "In multidimensional arrays, if you omit later indices, the returned object will be a lower dimensional ndarray consisting of all the data along the higher dimensions."
   ]
  },
  {
   "cell_type": "markdown",
   "id": "8112807e-7fea-4fa7-a6de-52e9563fdfae",
   "metadata": {},
   "source": [
    "Like one-dimensional objects such as Python lists, ndarrays can be sliced with the familiar syntaxt (i.e. arr[1:6]). \n",
    "Consider two-dimensional array, a slice, will select a range of elements along the axis. It can be helpful to read the expression `arr2d[:2]` as \"select the first two rows of `arr2d`.\""
   ]
  },
  {
   "cell_type": "code",
   "execution_count": 35,
   "id": "75693819-bec1-4376-86a1-d8de952bac51",
   "metadata": {},
   "outputs": [
    {
     "name": "stdout",
     "output_type": "stream",
     "text": [
      "[[1 2 3]\n",
      " [4 5 6]]\n"
     ]
    }
   ],
   "source": [
    "print(arr2d[:2])"
   ]
  },
  {
   "cell_type": "code",
   "execution_count": 41,
   "id": "f86fbd2c-4cc9-423d-8236-6f0cc7bf4ab5",
   "metadata": {},
   "outputs": [
    {
     "name": "stdout",
     "output_type": "stream",
     "text": [
      "[[2 3]\n",
      " [5 6]]\n"
     ]
    }
   ],
   "source": [
    "# it can be pass multiple slices: first two rows, but 2nd and 3rd columns.\n",
    "print(arr2d[:2, 1:])"
   ]
  }
 ],
 "metadata": {
  "kernelspec": {
   "display_name": "Python 3 (ipykernel)",
   "language": "python",
   "name": "python3"
  },
  "language_info": {
   "codemirror_mode": {
    "name": "ipython",
    "version": 3
   },
   "file_extension": ".py",
   "mimetype": "text/x-python",
   "name": "python",
   "nbconvert_exporter": "python",
   "pygments_lexer": "ipython3",
   "version": "3.13.5"
  }
 },
 "nbformat": 4,
 "nbformat_minor": 5
}
